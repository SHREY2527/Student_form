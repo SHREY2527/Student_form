{
 "cells": [
  {
   "cell_type": "code",
   "execution_count": 9,
   "metadata": {},
   "outputs": [
    {
     "name": "stdout",
     "output_type": "stream",
     "text": [
      "room1\n",
      "room2\n",
      "room3\n"
     ]
    }
   ],
   "source": [
    "\n",
    "def Book(rooms):\n",
    "   for i in rooms:\n",
    "        print (i)\n",
    "rooms =[\"room1\",\"room2\",\"room3\"]\n",
    "Book(rooms)"
   ]
  },
  {
   "cell_type": "code",
   "execution_count": 54,
   "metadata": {},
   "outputs": [
    {
     "name": "stdout",
     "output_type": "stream",
     "text": [
      "11\n"
     ]
    },
    {
     "data": {
      "text/plain": [
       "str"
      ]
     },
     "execution_count": 54,
     "metadata": {},
     "output_type": "execute_result"
    }
   ],
   "source": [
    "import datetime\n",
    "x = datetime.datetime.()\n",
    "time = x.strftime(\"%H:%M:%S\")\n",
    "\n",
    "print(time[0:2])\n",
    "type(time)\n",
    "\n"
   ]
  },
  {
   "cell_type": "code",
   "execution_count": 67,
   "metadata": {},
   "outputs": [
    {
     "name": "stdout",
     "output_type": "stream",
     "text": [
      "Monday\n"
     ]
    }
   ],
   "source": [
    "import datetime\n",
    "\n",
    " \n",
    "days = [\"Monday\", \"Tuesday\", \"Wednesday\",\n",
    "        \"Thursday\", \"Friday\", \"Saturday\", \"Sunday\"]\n",
    "year,month,date = 2022,9,26\n",
    "\n",
    "\n",
    "x = datetime.datetime(year,month,date)\n",
    "\n",
    "print(days[x.weekday()])\n",
    "\n",
    "\n",
    "# print(time[0:2])\n",
    "# type(time)\n"
   ]
  },
  {
   "cell_type": "code",
   "execution_count": 63,
   "metadata": {},
   "outputs": [
    {
     "name": "stdout",
     "output_type": "stream",
     "text": [
      "00:00:00\n"
     ]
    }
   ],
   "source": [
    "import datetime\n",
    "year,month,date = 2000,9,9\n",
    "x = datetime.datetime(year,month,date) \n",
    "\n",
    "time = x.strftime(\"%H:%M:%S\") \n",
    "print(time)"
   ]
  },
  {
   "cell_type": "code",
   "execution_count": null,
   "metadata": {},
   "outputs": [],
   "source": [
    "\n",
    "<html>\n",
    "    <head>\n",
    "        <title>\n",
    "            room detail\n",
    "        </title> \n",
    "   </head>\n",
    "\n",
    "   <body>\n",
    "\n",
    "<form>\n",
    "<label>ROOMS</label>\n",
    "<SELECT>\n",
    "    <option value = \"ROOM1\" > ROOM1</option>\n",
    "    <option value = \"ROOM2\" > ROOM1</option>\n",
    "    <option value = \"ROOM3\" > ROOM1</option>\n",
    "    <option value = \"ROOM4\" > ROOM1</option>\n",
    "    <option value = \"ROOM5\" > ROOM1</option>\n",
    "</SELECT> \n",
    "\n",
    "</form>\n",
    "   </body>\n",
    "</html>"
   ]
  }
 ],
 "metadata": {
  "kernelspec": {
   "display_name": "Python 3.10.6 64-bit",
   "language": "python",
   "name": "python3"
  },
  "language_info": {
   "name": "python",
   "version": "3.10.6"
  },
  "orig_nbformat": 4,
  "vscode": {
   "interpreter": {
    "hash": "61a5302c91f0228c70d98bfe8b68e4429a452bb888fc5e5a99a438201964d309"
   }
  }
 },
 "nbformat": 4,
 "nbformat_minor": 2
}
