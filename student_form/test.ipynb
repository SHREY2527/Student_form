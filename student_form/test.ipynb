{
 "cells": [
  {
   "cell_type": "code",
   "execution_count": 9,
   "metadata": {},
   "outputs": [
    {
     "name": "stdout",
     "output_type": "stream",
     "text": [
      "room1\n",
      "room2\n",
      "room3\n"
     ]
    }
   ],
   "source": [
    "\n",
    "def Book(rooms):\n",
    "   for i in rooms:\n",
    "        print (i)\n",
    "rooms =[\"room1\",\"room2\",\"room3\"]\n",
    "Book(rooms)"
   ]
  },
  {
   "cell_type": "code",
   "execution_count": 54,
   "metadata": {},
   "outputs": [
    {
     "name": "stdout",
     "output_type": "stream",
     "text": [
      "11\n"
     ]
    },
    {
     "data": {
      "text/plain": [
       "str"
      ]
     },
     "execution_count": 54,
     "metadata": {},
     "output_type": "execute_result"
    }
   ],
   "source": [
    "import datetime\n",
    "x = datetime.datetime.()\n",
    "time = x.strftime(\"%H:%M:%S\")\n",
    "\n",
    "print(time[0:2])\n",
    "type(time)\n",
    "\n"
   ]
  },
  {
   "cell_type": "code",
   "execution_count": 67,
   "metadata": {},
   "outputs": [
    {
     "name": "stdout",
     "output_type": "stream",
     "text": [
      "Monday\n"
     ]
    }
   ],
   "source": [
    "import datetime\n",
    "\n",
    " \n",
    "days = [\"Monday\", \"Tuesday\", \"Wednesday\",\n",
    "        \"Thursday\", \"Friday\", \"Saturday\", \"Sunday\"]\n",
    "year,month,date = 2022,9,26\n",
    "\n",
    "\n",
    "x = datetime.datetime(year,month,date)\n",
    "\n",
    "print(days[x.weekday()])\n",
    "\n",
    "\n",
    "# print(time[0:2])\n",
    "# type(time)\n"
   ]
  },
  {
   "cell_type": "code",
   "execution_count": 63,
   "metadata": {},
   "outputs": [
    {
     "name": "stdout",
     "output_type": "stream",
     "text": [
      "00:00:00\n"
     ]
    }
   ],
   "source": [
    "import datetime\n",
    "year,month,date = 2000,9,9\n",
    "x = datetime.datetime(year,month,date) \n",
    "\n",
    "time = x.strftime(\"%H:%M:%S\") \n",
    "print(time)"
   ]
  },
  {
   "cell_type": "code",
   "execution_count": 6,
   "metadata": {},
   "outputs": [
    {
     "name": "stdout",
     "output_type": "stream",
     "text": [
      "12345\n"
     ]
    }
   ],
   "source": [
    "\n",
    "n = int(input())\n",
    "s = ''\n",
    "for i in range(1,n+1):\n",
    "    s += str(i)\n",
    "print(s)\n"
   ]
  },
  {
   "cell_type": "code",
   "execution_count": null,
   "metadata": {},
   "outputs": [],
   "source": []
  }
 ],
 "metadata": {
  "kernelspec": {
   "display_name": "Python 3.10.6 64-bit",
   "language": "python",
   "name": "python3"
  },
  "language_info": {
   "codemirror_mode": {
    "name": "ipython",
    "version": 3
   },
   "file_extension": ".py",
   "mimetype": "text/x-python",
   "name": "python",
   "nbconvert_exporter": "python",
   "pygments_lexer": "ipython3",
   "version": "3.10.6"
  },
  "orig_nbformat": 4,
  "vscode": {
   "interpreter": {
    "hash": "61a5302c91f0228c70d98bfe8b68e4429a452bb888fc5e5a99a438201964d309"
   }
  }
 },
 "nbformat": 4,
 "nbformat_minor": 2
}
